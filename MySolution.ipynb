{
  "nbformat": 4,
  "nbformat_minor": 0,
  "metadata": {
    "colab": {
      "name": "MySolution.ipynb",
      "provenance": [],
      "collapsed_sections": [],
      "authorship_tag": "ABX9TyMIlvMo4SmlR7IUiPRFiNbb",
      "include_colab_link": true
    },
    "kernelspec": {
      "name": "python3",
      "display_name": "Python 3"
    },
    "language_info": {
      "name": "python"
    }
  },
  "cells": [
    {
      "cell_type": "markdown",
      "metadata": {
        "id": "view-in-github",
        "colab_type": "text"
      },
      "source": [
        "<a href=\"https://colab.research.google.com/github/Tanush103/MyFirstRepository/blob/master/MySolution.ipynb\" target=\"_parent\"><img src=\"https://colab.research.google.com/assets/colab-badge.svg\" alt=\"Open In Colab\"/></a>"
      ]
    },
    {
      "cell_type": "code",
      "metadata": {
        "id": "qCGRPx0MEKfi"
      },
      "source": [
        "import pandas as pd"
      ],
      "execution_count": 79,
      "outputs": []
    },
    {
      "cell_type": "code",
      "metadata": {
        "id": "0TdPN3Vt56_n"
      },
      "source": [
        "df=pd.read_excel('employee__1_.xls',index_col='Emp ID')"
      ],
      "execution_count": 80,
      "outputs": []
    },
    {
      "cell_type": "code",
      "metadata": {
        "id": "DM24Bm7_57Lh"
      },
      "source": [
        "df['Date of Birth']=pd.to_datetime(df['Date of Birth'])\n",
        "df['Date of Joining']=pd.to_datetime(df['Date of Joining'])"
      ],
      "execution_count": 81,
      "outputs": []
    },
    {
      "cell_type": "code",
      "metadata": {
        "id": "JvCrY7em57Wx"
      },
      "source": [
        "df['Employee Name']=df['First Name']+' '+df['Last Name']"
      ],
      "execution_count": 82,
      "outputs": []
    },
    {
      "cell_type": "code",
      "metadata": {
        "id": "lfGLyibi57gS"
      },
      "source": [
        "df=df.sort_values(\"Date of Birth\")"
      ],
      "execution_count": 83,
      "outputs": []
    },
    {
      "cell_type": "code",
      "metadata": {
        "id": "MABxyiar57zH"
      },
      "source": [
        "df=df[['Employee Name','Quarter of Joining']]"
      ],
      "execution_count": 84,
      "outputs": []
    },
    {
      "cell_type": "code",
      "metadata": {
        "id": "7m4uOUVIaJ7Y"
      },
      "source": [
        "d = {}\n",
        "for i in df['Quarter of Joining'].unique():\n",
        "    d[i] = [df['Employee Name'][j] for j in df[df['Quarter of Joining']==i].index]"
      ],
      "execution_count": 92,
      "outputs": []
    },
    {
      "cell_type": "code",
      "metadata": {
        "id": "UzUEEegkbIHk"
      },
      "source": [
        "print(d)"
      ],
      "execution_count": null,
      "outputs": []
    }
  ]
}